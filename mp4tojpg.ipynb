{
 "cells": [
  {
   "cell_type": "code",
   "execution_count": 1,
   "id": "088e8f43-7313-4587-a728-cf79b3b84cbb",
   "metadata": {},
   "outputs": [],
   "source": [
    "###pip install opencv-python"
   ]
  },
  {
   "cell_type": "code",
   "execution_count": 2,
   "id": "96e587d2-9851-4887-addc-d1b0eb150944",
   "metadata": {},
   "outputs": [],
   "source": [
    "import cv2\n",
    "import os"
   ]
  },
  {
   "cell_type": "code",
   "execution_count": 3,
   "id": "85596ad6-8f6b-4b6b-a09d-035198a8845d",
   "metadata": {},
   "outputs": [],
   "source": [
    "def save_frame(video_path, frame_num, result_path):\n",
    "    cap = cv2.VideoCapture(video_path)\n",
    "\n",
    "    if not cap.isOpened():\n",
    "        return\n",
    "\n",
    "    os.makedirs(os.path.dirname(result_path), exist_ok=True)\n",
    "\n",
    "    cap.set(cv2.CAP_PROP_POS_FRAMES, frame_num)\n",
    "\n",
    "    ret, frame = cap.read()\n",
    "\n",
    "    if ret:\n",
    "        cv2.imwrite(result_path, frame)"
   ]
  },
  {
   "cell_type": "code",
   "execution_count": 5,
   "id": "811a547b-3319-4b85-90b7-6b96247b79ce",
   "metadata": {},
   "outputs": [
    {
     "ename": "SyntaxError",
     "evalue": "invalid syntax (2160395142.py, line 1)",
     "output_type": "error",
     "traceback": [
      "\u001b[1;36m  Cell \u001b[1;32mIn[5], line 1\u001b[1;36m\u001b[0m\n\u001b[1;33m    directory = <input directory>\u001b[0m\n\u001b[1;37m                ^\u001b[0m\n\u001b[1;31mSyntaxError\u001b[0m\u001b[1;31m:\u001b[0m invalid syntax\n"
     ]
    }
   ],
   "source": [
    "directory = <input directory>\n",
    "count = 0\n",
    "for filename in os.listdir(directory + '/videos'):\n",
    "    if filename.endswith('.mp4'):\n",
    "        path = os.path.join(directory + '/videos', filename)\n",
    "        save_frame(path, 100, directory + f'/images/{count}.jpg')\n",
    "        count += 1"
   ]
  },
  {
   "cell_type": "code",
   "execution_count": null,
   "id": "4cb6186d-82f0-4b37-8f98-5fb63cfe1d34",
   "metadata": {},
   "outputs": [],
   "source": []
  }
 ],
 "metadata": {
  "kernelspec": {
   "display_name": "Python 3 (ipykernel)",
   "language": "python",
   "name": "python3"
  },
  "language_info": {
   "codemirror_mode": {
    "name": "ipython",
    "version": 3
   },
   "file_extension": ".py",
   "mimetype": "text/x-python",
   "name": "python",
   "nbconvert_exporter": "python",
   "pygments_lexer": "ipython3",
   "version": "3.11.5"
  }
 },
 "nbformat": 4,
 "nbformat_minor": 5
}
